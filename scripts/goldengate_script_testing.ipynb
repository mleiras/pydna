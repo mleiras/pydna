{
 "cells": [
  {
   "cell_type": "code",
   "execution_count": null,
   "metadata": {},
   "outputs": [],
   "source": [
    "import pydna\n"
   ]
  },
  {
   "cell_type": "code",
   "execution_count": 1,
   "metadata": {},
   "outputs": [
    {
     "data": {
      "text/plain": [
       "Dseqrecord(-9)\n",
       "\u001b[48;5;11matgccctaa\u001b[0m\n",
       "tacgggatt"
      ]
     },
     "execution_count": 1,
     "metadata": {},
     "output_type": "execute_result"
    }
   ],
   "source": [
    "from pydna.dseqrecord import Dseqrecord\n",
    "dsr = Dseqrecord(\"atgccctaa\")\n",
    "dsr.add_feature() # a small gene: atgccctaa\n",
    "dsr.figure()"
   ]
  },
  {
   "cell_type": "code",
   "execution_count": 2,
   "metadata": {},
   "outputs": [
    {
     "data": {
      "text/plain": [
       "5atg...taa3\n",
       "       |||\n",
       "      3att5\n",
       "5atg3\n",
       " |||\n",
       "3tac...att5"
      ]
     },
     "execution_count": 2,
     "metadata": {},
     "output_type": "execute_result"
    }
   ],
   "source": [
    "from pydna.design import primer_design\n",
    "amplicon = primer_design(dsr, limit=3, target_tm=0)\n",
    "amplicon.figure()"
   ]
  },
  {
   "cell_type": "code",
   "execution_count": 3,
   "metadata": {},
   "outputs": [],
   "source": [
    "forward_primer = \"ccccGGATCC\" + amplicon.forward_primer\n",
    "reverse_primer = \"ttttGGATCC\" + amplicon.reverse_primer"
   ]
  },
  {
   "cell_type": "code",
   "execution_count": 7,
   "metadata": {},
   "outputs": [
    {
     "data": {
      "text/plain": [
       "          5atg...taa3\n",
       "                 |||\n",
       "                3attCCTAGGtttt5\n",
       "5ccccGGATCCatg3\n",
       "           |||\n",
       "          3tac...att5"
      ]
     },
     "execution_count": 7,
     "metadata": {},
     "output_type": "execute_result"
    }
   ],
   "source": [
    "from pydna.amplify import pcr\n",
    "pcr_product = pcr(forward_primer, reverse_primer, dsr, limit=3)\n",
    "pcr_product.figure()"
   ]
  },
  {
   "cell_type": "code",
   "execution_count": 15,
   "metadata": {},
   "outputs": [
    {
     "name": "stdout",
     "output_type": "stream",
     "text": [
      "Dseqrecord(-9)\n",
      "\u001b[48;5;11m\u001b[0mccccG    \n",
      "ggggCCTAG\n",
      "\n",
      "Dseqrecord(-19)\n",
      "GATCC\u001b[48;5;11matgccctaa\u001b[0mG    \n",
      "    GtacgggattCCTAG\n",
      "\n",
      "Dseqrecord(-9)\n",
      "\u001b[48;5;11m\u001b[0mGATCCaaaa\n",
      "    Gtttt\n"
     ]
    }
   ],
   "source": [
    "from Bio.Restriction import BamHI # cuts GGATCC\n",
    "a, b, c  = pcr_product.cut(BamHI)\n",
    "\n",
    "print(a.figure())\n",
    "print()\n",
    "print(b.figure())\n",
    "print()\n",
    "print(c.figure())"
   ]
  },
  {
   "cell_type": "code",
   "execution_count": 40,
   "metadata": {},
   "outputs": [
    {
     "data": {
      "text/plain": [
       "GATCCatgccctaaG"
      ]
     },
     "execution_count": 40,
     "metadata": {},
     "output_type": "execute_result"
    }
   ],
   "source": [
    "b.seq.watson"
   ]
  },
  {
   "cell_type": "code",
   "execution_count": 43,
   "metadata": {},
   "outputs": [
    {
     "name": "stdout",
     "output_type": "stream",
     "text": [
      "GATCCatgccctaaG GATCCttagggcatG\n"
     ]
    },
    {
     "data": {
      "text/plain": [
       "True"
      ]
     },
     "execution_count": 43,
     "metadata": {},
     "output_type": "execute_result"
    }
   ],
   "source": [
    "def check_overhangs(dseqrecord):\n",
    "    \"\"\"\n",
    "    This function checks the overhangs of a Dseqrecord object.\n",
    "    It assumes that the overhangs are located at the ends of the sequence.\n",
    "    \"\"\"\n",
    "    # Get the Dseq object from the Dseqrecord\n",
    "    dseq = dseqrecord.seq\n",
    "    \n",
    "    # Check for overhangs\n",
    "    print(dseq.watson, dseq.crick)\n",
    "    if len(dseq.watson) > len(dseq.crick):\n",
    "        print(\"5' overhang on top strand:\", dseq.watson[len(dseq.crick):])\n",
    "    elif len(dseq.watson) < len(dseq.crick):\n",
    "        print(\"5' overhang on bottom strand:\", dseq.crick[len(dseq.watson):])\n",
    "\n",
    "    return True\n",
    "\n",
    "\n",
    "check_overhangs(b)"
   ]
  },
  {
   "cell_type": "code",
   "execution_count": 8,
   "metadata": {},
   "outputs": [],
   "source": [
    "def check_overhangs(sequence):\n",
    "    \"\"\"\n",
    "    This function checks the overhangs of a Dseqrecord object.\n",
    "    It assumes that the overhangs are located at the ends of the sequence.\n",
    "    \"\"\"\n",
    "    # Get the sequence as a string\n",
    "    print(sequence)\n",
    "    seq_str = str(sequence.seq)\n",
    "\n",
    "    # Check for 5' overhang\n",
    "    five_prime_overhang = seq_str.split(sequence.seq.watson)[0]\n",
    "\n",
    "\n",
    "    # Check for 3' overhang\n",
    "    three_prime_overhang = seq_str.split(sequence.seq.crick)[-1]\n",
    "\n",
    "    return five_prime_overhang, three_prime_overhang\n",
    "\n",
    "    "
   ]
  },
  {
   "cell_type": "code",
   "execution_count": 16,
   "metadata": {},
   "outputs": [
    {
     "name": "stdout",
     "output_type": "stream",
     "text": [
      "Dseqrecord\n",
      "circular: False\n",
      "size: 19\n",
      "ID: id\n",
      "Name: name\n",
      "Description: description\n",
      "Number of features: 3\n",
      "/molecule_type=DNA\n",
      "Dseq(-19)\n",
      "GATCCatgccctaaG\n",
      "    GtacgggattCCTAG\n"
     ]
    },
    {
     "data": {
      "text/plain": [
       "('', 'GATCCatgccctaaGGATC')"
      ]
     },
     "execution_count": 16,
     "metadata": {},
     "output_type": "execute_result"
    }
   ],
   "source": [
    "check_overhangs(b)"
   ]
  }
 ],
 "metadata": {
  "kernelspec": {
   "display_name": "pythonProject",
   "language": "python",
   "name": "python3"
  },
  "language_info": {
   "codemirror_mode": {
    "name": "ipython",
    "version": 3
   },
   "file_extension": ".py",
   "mimetype": "text/x-python",
   "name": "python",
   "nbconvert_exporter": "python",
   "pygments_lexer": "ipython3",
   "version": "3.9.12"
  },
  "orig_nbformat": 4
 },
 "nbformat": 4,
 "nbformat_minor": 2
}
