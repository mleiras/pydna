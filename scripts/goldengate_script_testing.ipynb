{
 "cells": [
  {
   "cell_type": "code",
   "execution_count": 14,
   "metadata": {},
   "outputs": [],
   "source": [
    "import pydna"
   ]
  },
  {
   "cell_type": "code",
   "execution_count": 44,
   "metadata": {},
   "outputs": [
    {
     "data": {
      "text/plain": [
       "Dseqrecord(-9)\n",
       "\u001b[48;5;11matgccctaa\u001b[0m\n",
       "tacgggatt"
      ]
     },
     "execution_count": 44,
     "metadata": {},
     "output_type": "execute_result"
    }
   ],
   "source": [
    "from pydna.dseqrecord import Dseqrecord\n",
    "dsr = Dseqrecord(\"atgccctaa\")\n",
    "dsr.add_feature() # a small gene: atgccctaa\n",
    "dsr.figure()"
   ]
  },
  {
   "cell_type": "code",
   "execution_count": 45,
   "metadata": {},
   "outputs": [
    {
     "data": {
      "text/plain": [
       "5atg...taa3\n",
       "       |||\n",
       "      3att5\n",
       "5atg3\n",
       " |||\n",
       "3tac...att5"
      ]
     },
     "execution_count": 45,
     "metadata": {},
     "output_type": "execute_result"
    }
   ],
   "source": [
    "from pydna.design import primer_design\n",
    "amplicon = primer_design(dsr, limit=3, target_tm=0)\n",
    "amplicon.figure()"
   ]
  },
  {
   "cell_type": "code",
   "execution_count": 17,
   "metadata": {},
   "outputs": [],
   "source": [
    "# BamHI\n",
    "# forward_primer = \"ccccGGATCC\" + amplicon.forward_primer\n",
    "# reverse_primer = \"ttttGGATCC\" + amplicon.reverse_primer\n",
    "\n",
    "# BsmBI\n",
    "forward_primer = \"ccccGAGACG\" + amplicon.forward_primer\n",
    "reverse_primer = \"ttttGAGACG\" + amplicon.reverse_primer"
   ]
  },
  {
   "cell_type": "code",
   "execution_count": 51,
   "metadata": {},
   "outputs": [
    {
     "name": "stdout",
     "output_type": "stream",
     "text": [
      "Dseqrecord\n",
      "circular: False\n",
      "size: 29\n",
      "ID: orf9\n",
      "Name: orf9\n",
      "Description: pcr_product_f9 id_r9 id\n",
      "Number of features: 3\n",
      "/molecule_type=DNA\n",
      "Dseq(-29)\n",
      "ccccGAGACGatgccctaaCGTCTCaaaa\n",
      "ggggCTCTGCtacgggattGCAGAGtttt\n"
     ]
    }
   ],
   "source": [
    "from pydna.amplify import pcr\n",
    "pcr_product = pcr(forward_primer, reverse_primer, dsr, limit=3)\n",
    "pcr_product.figure()\n",
    "print(pcr_product)"
   ]
  },
  {
   "cell_type": "code",
   "execution_count": 48,
   "metadata": {},
   "outputs": [
    {
     "name": "stdout",
     "output_type": "stream",
     "text": [
      "Dseqrecord(-29)\n",
      "ccccGAGACG\u001b[48;5;11matgccctaa\u001b[0mCGTCTCaaaa\n",
      "ggggCTCTGCtacgggattGCAGAGtttt\n"
     ]
    }
   ],
   "source": [
    "from Bio.Restriction import BamHI, BsmBI # BamHI cuts GGATCC\n",
    "# a, b, c  = pcr_product.cut(BamHI)\n",
    "product  = pcr_product.cut(BsmBI)\n",
    "\n",
    "print(product[0].figure())\n",
    "# print(a.figure())\n",
    "# print()\n",
    "# print(b.figure())\n",
    "# print()\n",
    "# print(c.figure())"
   ]
  },
  {
   "cell_type": "code",
   "execution_count": 49,
   "metadata": {},
   "outputs": [
    {
     "data": {
      "text/plain": [
       "('GATC', 'GATC', 4)"
      ]
     },
     "execution_count": 49,
     "metadata": {},
     "output_type": "execute_result"
    }
   ],
   "source": [
    "def check_overhangs(dseqrecord):\n",
    "    \"\"\"\n",
    "    This function checks the overhangs of a Dseqrecord object.\n",
    "    \"\"\"\n",
    "    # Get the Dseq object from the Dseqrecord\n",
    "    dseq = dseqrecord.seq\n",
    "    length_ovhg = abs(dseq.ovhg)\n",
    "    \n",
    "    # Check for overhangs\n",
    "    w = dseq.watson[:length_ovhg]\n",
    "    c = dseq.crick[:length_ovhg]\n",
    "\n",
    "    return w,c, length_ovhg\n",
    "\n",
    "\n",
    "check_overhangs(b)\n"
   ]
  }
 ],
 "metadata": {
  "kernelspec": {
   "display_name": "pythonProject",
   "language": "python",
   "name": "python3"
  },
  "language_info": {
   "codemirror_mode": {
    "name": "ipython",
    "version": 3
   },
   "file_extension": ".py",
   "mimetype": "text/x-python",
   "name": "python",
   "nbconvert_exporter": "python",
   "pygments_lexer": "ipython3",
   "version": "3.9.12"
  },
  "orig_nbformat": 4
 },
 "nbformat": 4,
 "nbformat_minor": 2
}
