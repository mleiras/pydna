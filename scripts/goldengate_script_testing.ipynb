{
 "cells": [
  {
   "cell_type": "code",
   "execution_count": 95,
   "metadata": {},
   "outputs": [],
   "source": [
    "import pydna"
   ]
  },
  {
   "cell_type": "code",
   "execution_count": 96,
   "metadata": {},
   "outputs": [
    {
     "name": "stdout",
     "output_type": "stream",
     "text": [
      "Dseqrecord(-25)\n",
      "\u001b[48;5;11m\u001b[0mCTTAAGatgccctaaccccGAATTC\n",
      "GAATTCtacgggattggggCTTAAG\n",
      "Dseqrecord(-25)\n",
      "\u001b[48;5;11m\u001b[0mGAATTCatgccctaaccccGAATTC\n",
      "CTTAAGtacgggattggggCTTAAG\n",
      "Dseqrecord(-31)\n",
      "\u001b[48;5;11m\u001b[0mGAATTCatgcccgggggggggggccCTTAAG\n",
      "CTTAAGtacgggcccccccccccggGAATTC\n"
     ]
    }
   ],
   "source": [
    "from pydna.dseqrecord import Dseqrecord\n",
    "a = Dseqrecord(\"CTTAAGatgccctaaccccGAATTC\")\n",
    "b = Dseqrecord(\"GAATTCatgccctaaccccGAATTC\")\n",
    "c = Dseqrecord(\"GAATTCatgcccgggggggggggccCTTAAG\")\n",
    "\n",
    "\n",
    "print(a.figure())\n",
    "print(b.figure())\n",
    "print(c.figure()) "
   ]
  },
  {
   "cell_type": "code",
   "execution_count": 97,
   "metadata": {},
   "outputs": [
    {
     "name": "stdout",
     "output_type": "stream",
     "text": [
      "Dseqrecord(-24)\n",
      "\u001b[48;5;11m\u001b[0mCTTAAGatgccctaaccccG    \n",
      "GAATTCtacgggattggggCTTAA\n",
      "\n",
      "Dseqrecord(-23)\n",
      "\u001b[48;5;11m\u001b[0mAATTCatgccctaaccccG    \n",
      "    GtacgggattggggCTTAA\n",
      "\n",
      "Dseqrecord(-30)\n",
      "\u001b[48;5;11m\u001b[0mAATTCatgcccgggggggggggccCTTAAG\n",
      "    GtacgggcccccccccccggGAATTC\n"
     ]
    }
   ],
   "source": [
    "from Bio.Restriction import BamHI, EcoRI, BsmBI # BamHI cuts GGATCC\n",
    "a1,a2  = a.cut(EcoRI)\n",
    "b1,b2,b3 = b.cut(EcoRI)\n",
    "c1,c2 = c.cut(EcoRI)\n",
    "\n",
    "print(a1.figure())\n",
    "print()\n",
    "print(b2.figure())\n",
    "print()\n",
    "print(c2.figure())"
   ]
  },
  {
   "cell_type": "code",
   "execution_count": 98,
   "metadata": {},
   "outputs": [
    {
     "name": "stdout",
     "output_type": "stream",
     "text": [
      "Dseqrecord(-69)\n",
      "\u001b[48;5;11m\u001b[0mCTTAAGatgccctaaccccGAATTCatgccctaaccccGAATTCatgcccgggggggggggccCTTAAG\n",
      "GAATTCtacgggattggggCTTAAGtacgggattggggCTTAAGtacgggcccccccccccggGAATTC\n",
      "Dseqrecord(-50)\n",
      "\u001b[48;5;11m\u001b[0mCTTAAGatgccctaaccccGAATTCatgcccgggggggggggccCTTAAG\n",
      "GAATTCtacgggattggggCTTAAGtacgggcccccccccccggGAATTC\n"
     ]
    }
   ],
   "source": [
    "d = a1+b2+c2\n",
    "e = a1+c2\n",
    "print(d.figure())\n",
    "print(e.figure())"
   ]
  },
  {
   "cell_type": "code",
   "execution_count": 127,
   "metadata": {},
   "outputs": [],
   "source": [
    "import networkx as nx\n",
    "import matplotlib.pyplot as plt\n",
    "G = nx.DiGraph()"
   ]
  },
  {
   "cell_type": "code",
   "execution_count": 131,
   "metadata": {},
   "outputs": [],
   "source": [
    "G.add_node('S1')\n",
    "G.add_node('S2')\n",
    "G.add_node('S3')\n",
    "\n",
    "G.add_edges_from([('S1', 'S2'), ('S2','S3'),('S1','S3')])\n",
    "# G.add_weighted_edges_from([('S1', 'S3',5)])"
   ]
  },
  {
   "cell_type": "code",
   "execution_count": 133,
   "metadata": {},
   "outputs": [
    {
     "name": "stdout",
     "output_type": "stream",
     "text": [
      "digraph{\n",
      "            node[shape = \"circle\", style = \"filled\"];\n",
      "            \n",
      "S1 -> S2[label = \"\"];\n",
      "S1 -> S3[label = \"\"];\n",
      "S2 -> S3[label = \"\"];\n",
      "S3 -> S1[label = \"\"];\n",
      "}\n",
      "\n"
     ]
    }
   ],
   "source": [
    "import io\n",
    "\n",
    "def to_graphviz(g):\n",
    "    with io.StringIO() as F:\n",
    "        print(\"\"\"digraph{\n",
    "            node[shape = \"circle\", style = \"filled\"];\n",
    "            \"\"\", file = F)\n",
    "        for u in g:\n",
    "            for v in g[u]:\n",
    "                if g[u][v] is not {}:\n",
    "                    print(f'{u} -> {v}[label = \"\"];', file = F)\n",
    "                    # print(f\"{u} -> {v};\", file = F)\n",
    "                else:\n",
    "                    print(f'{u} -> {v}[label = \"{g[u][v]}\"];', file = F)\n",
    "        print(\"}\", file = F)\n",
    "        return F.getvalue()\n",
    "        \n",
    "# pprint.pprint(g)\n",
    "\n",
    "print(to_graphviz(G))"
   ]
  },
  {
   "cell_type": "code",
   "execution_count": 107,
   "metadata": {},
   "outputs": [
    {
     "data": {
      "image/png": "[encoded data removed]",
      "text/plain": [
       "<Figure size 432x288 with 1 Axes>"
      ]
     },
     "metadata": {},
     "output_type": "display_data"
    }
   ],
   "source": [
    "subax1 = plt.subplot(121)\n",
    "nx.draw(G, with_labels=True, font_weight='bold')\n",
    "# subax2 = plt.subplot(122)\n",
    "# nx.draw_shell(G, nlist=[range(5, 10), range(5)], with_labels=True, font_weight='bold')"
   ]
  }
 ],
 "metadata": {
  "kernelspec": {
   "display_name": "pythonProject",
   "language": "python",
   "name": "python3"
  },
  "language_info": {
   "codemirror_mode": {
    "name": "ipython",
    "version": 3
   },
   "file_extension": ".py",
   "mimetype": "text/x-python",
   "name": "python",
   "nbconvert_exporter": "python",
   "pygments_lexer": "ipython3",
   "version": "3.9.12"
  },
  "orig_nbformat": 4
 },
 "nbformat": 4,
 "nbformat_minor": 2
}
