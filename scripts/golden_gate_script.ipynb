{
 "cells": [
  {
   "attachments": {},
   "cell_type": "markdown",
   "metadata": {},
   "source": [
    "# Golden Gate Cloning"
   ]
  },
  {
   "attachments": {},
   "cell_type": "markdown",
   "metadata": {},
   "source": [
    "Imports:"
   ]
  },
  {
   "cell_type": "code",
   "execution_count": 6,
   "metadata": {},
   "outputs": [],
   "source": [
    "from pydna.dseqrecord import Dseqrecord\n",
    "from pydna.design import primer_design\n",
    "from Bio.Restriction import *\n",
    "from pydna.seqrecord import SeqRecord\n",
    "from pydna.amplify import pcr\n",
    "import goldenhinges\n",
    "from goldenhinges import OverhangsSelector\n",
    "import networkx as nx\n",
    "from itertools import permutations, combinations\n",
    "from pydna.seqrecord import SeqRecord\n",
    "\n",
    "\n",
    "rb_iis = RestrictionBatch([AcuI, AlwI, BaeI, BbsI, BbvI, BccI, BceAI, BcgI, BciVI, BcoDI, BfuAI, BmrI, BpmI, BpuEI, BsaI, BsaXI, BseRI, BsgI, BsmAI, BsmBI, BsmFI, BsmI, BspCNI, BspMI, BspQI, BsrDI, BsrI, BtgZI, BtsCI, BtsI, BtsIMutI, CspCI, EarI, EciI, Esp3I, FauI, FokI, HgaI, HphI, HpyAV, MboII, MlyI, MmeI, MnlI, NmeAIII, PaqCI, PleI, SapI, SfaNI])\n",
    "\n",
    "def _list_sticky_ends_(seqs):\n",
    "    sticky_ends_dict = {} # com dicionario dá para ver sticky ends de cada sequencia (ou blunt)\n",
    "    sticky_ends = [] # só para registar diferentes tipos de stiky ends (sem repetir e não por ordem, nem blunts)\n",
    "    for sequence in seqs:\n",
    "        end_5 = sequence.seq.five_prime_end()\n",
    "        end_3 = sequence.seq.three_prime_end()\n",
    "        sticky_ends_dict[seqs.index(sequence)] = []\n",
    "        if end_5[0] == 'blunt':\n",
    "            sticky_ends_dict[seqs.index(sequence)].append((end_5[0])) # blunt\n",
    "        else:\n",
    "            sticky_ends_dict[seqs.index(sequence)].append((end_5[1])) # overhang\n",
    "            sticky_ends.append(end_5[1].upper()) \n",
    "        if end_3[0] == 'blunt':\n",
    "            sticky_ends_dict[seqs.index(sequence)].append((end_3[0])) # blunt\n",
    "        else:\n",
    "            sticky_ends_dict[seqs.index(sequence)].append((end_3[1])) # overhang\n",
    "            sticky_ends.append(end_3[1].upper())\n",
    "\n",
    "    sticky_ends = list(set(sticky_ends))\n",
    "\n",
    "    return sticky_ends_dict, sticky_ends\n",
    "\n",
    "\n",
    "def _compatible_enzyme_(seqs, enzs):\n",
    "    \n",
    "    comp_enzymes = enzs.copy()\n",
    "    \n",
    "    for e in enzs:\n",
    "        if e not in rb_iis: # only type IIs restriction enzymes\n",
    "            comp_enzymes.remove(e)\n",
    "        else:\n",
    "            for seq in seqs:\n",
    "                if e.search(seq.seq) != []:\n",
    "                    comp_enzymes.remove(e)\n",
    "                    break\n",
    "\n",
    "    if comp_enzymes == []:\n",
    "        raise ValueError('''No type IIs restriction enzymes available on this list\n",
    "                        that do not cut within the sequences''')\n",
    "    \n",
    "    return comp_enzymes\n",
    "\n",
    "\n",
    "def _design_seqs_(seqs, sticky_ends_dict, compatible_enzymes, circular, sticky_ends):\n",
    "\n",
    "    def _design_primers_(sequence, compatible_enzymes, f_ovhg, r_ovhg, ind):\n",
    "\n",
    "        if isinstance(sequence, Dseqrecord):\n",
    "            sequence = primer_design(sequence)\n",
    "\n",
    "        golden_hinges = OverhangsSelector(\n",
    "                    gc_min=0.25,\n",
    "                    gc_max=0.5,\n",
    "                    differences=2,\n",
    "                    forbidden_overhangs= sticky_ends)\n",
    "        \n",
    "        overhangs = golden_hinges.generate_overhangs_set(n_overhangs=2)\n",
    "        \n",
    "        if f_ovhg == 'blunt':\n",
    "            overhang_f = overhangs[0]\n",
    "            sticky_ends.append(overhang_f)\n",
    "        else:\n",
    "            overhang_f = SeqRecord(f_ovhg).reverse_complement().seq\n",
    "        if r_ovhg == 'blunt':\n",
    "            overhang_r = overhangs[1]\n",
    "            sticky_ends.append(overhang_r)   \n",
    "        else:\n",
    "            overhang_r = SeqRecord(r_ovhg).reverse_complement().seq\n",
    "\n",
    "        fp = compatible_enzymes[0].site + 'a' + overhang_f + sequence.forward_primer\n",
    "        rp = compatible_enzymes[0].site + 'a' + overhang_r + sequence.reverse_primer\n",
    "\n",
    "        pcr_prod = pcr(fp, rp, sequence)\n",
    "        new_seq = Dseqrecord(pcr_prod)\n",
    "\n",
    "        sticky_ends_dict[ind][0] = overhang_f\n",
    "        sticky_ends_dict[ind][1] = overhang_r\n",
    "\n",
    "        return new_seq\n",
    "\n",
    "    new_seqs = []\n",
    "\n",
    "    for ind in range(len(seqs)): # index da sequencia na lista (até ao penultimo)\n",
    "\n",
    "        if ind == 0:\n",
    "            if circular:\n",
    "                previous_sticky_end = sticky_ends_dict[len(seqs)-1][1]\n",
    "            else:\n",
    "                previous_sticky_end = 'blunt' # Desta forma está a criar primer com sticky end \"aleatório\" a não corresponder à ultima seq // Algternativa é mudar para None e depois alterar na função em que não cria um primer para essa ponta mas depois a DNA ligase poderá ligar as duas sequencias\n",
    "        else:\n",
    "            previous_sticky_end = sticky_ends_dict[ind-1][1]\n",
    "\n",
    "        if ind == len(seqs)-1:\n",
    "            if circular:\n",
    "                next_sticky_end = sticky_ends_dict[0][0]\n",
    "            else:\n",
    "                next_sticky_end = 'blunt' # Desta forma está a criar primer com sticky end \"aleatório\" a não corresponder à primeira seq\n",
    "        else:\n",
    "            next_sticky_end = sticky_ends_dict[ind+1][0] \n",
    "\n",
    "\n",
    "        if sticky_ends_dict[ind][0] == 'blunt' and sticky_ends_dict[ind][1] == 'blunt':\n",
    "            new_seq = _design_primers_(seqs[ind], compatible_enzymes = compatible_enzymes, f_ovhg = previous_sticky_end, r_ovhg = next_sticky_end, ind=ind)\n",
    "\n",
    "            new_seqs.append(new_seq)\n",
    "\n",
    "        elif sticky_ends_dict[ind][0] != 'blunt' and sticky_ends_dict[ind][1] != 'blunt':\n",
    "            new_seqs.append(seqs[ind]) # não fazer nada porque já tem sticky ends (não é preciso enzima porque o design dos outros fragmentos vão coincidir)\n",
    "    \n",
    "        else:\n",
    "            raise ValueError('ERRO DESIGN PRIMER')\n",
    "\n",
    "    return new_seqs\n",
    "\n",
    "\n",
    "def GoldenGateDesigner(seqs: list, enzs: list, circular: bool = True) -> list:\n",
    "    '''\n",
    "    GoldenGateDesigner is a function that receives a list of sequences and a list of enzymes and, using these, it must return a list of sequences with compatible primers or overhangs.\n",
    "\n",
    "    Parameters\n",
    "    ----------\n",
    "    seqs : list\n",
    "        list of sequences (order is important)\n",
    "    enzs : list\n",
    "        list of enzymes (order is important)\n",
    "    circular : bool, optional \n",
    "        To define if intended final sequence is circular or not, by default True\n",
    "\n",
    "    Returns\n",
    "    -------\n",
    "    new_seqs: list\n",
    "        list with Dseqrecords and amplicons\n",
    "    '''\n",
    "\n",
    "    # STEP 1:  list all sticky ends\n",
    "    sticky_ends_dict,  sticky_ends = _list_sticky_ends_(seqs)\n",
    "   \n",
    "\n",
    "    # STEP 2:  compatible enzymes (enzymes that do not cut within the sequences)\n",
    "    compatible_enzymes = _compatible_enzyme_(seqs, enzs) \n",
    "\n",
    "    # STEP 3: for loop over sequences\n",
    "    # design relevant primer if needed (add enzyme and comp sticky end)\n",
    "    new_seqs = _design_seqs_(seqs, sticky_ends_dict, compatible_enzymes, circular, sticky_ends)\n",
    "   \n",
    "    # STEP 4: Return a list with Dseqrecords and amplicons\n",
    "\n",
    "    return new_seqs , compatible_enzymes[0] # o user tem de saber qual a enzima compativel\n",
    "\n",
    "\n",
    "\n",
    "\n",
    "def _graph_assembly_(list_seqs: list):\n",
    "    '''\n",
    "    graph_assembly creates a graph with all the possibilities of assembly between the sequences on the list\n",
    "\n",
    "    Parameters\n",
    "    ----------\n",
    "    list_seqs : list\n",
    "        list of the sorted sequences with sticky ends for assembly (order is important)\n",
    "\n",
    "    Returns\n",
    "    -------\n",
    "    _type_\n",
    "        graph\n",
    "    '''\n",
    "    G = nx.DiGraph()\n",
    "    \n",
    "    for comb in permutations(list_seqs, 2):\n",
    "        seq1, seq2 = comb\n",
    "        try: \n",
    "            seq1 + seq2\n",
    "        except:\n",
    "            continue\n",
    "        else:\n",
    "            node1 = list_seqs.index(seq1)+1\n",
    "            node2 = list_seqs.index(seq2)+1\n",
    "            G.add_node(node1, dseq=seq1)\n",
    "            G.add_node(node2, dseq=seq2)\n",
    "            G.add_edge(node1, node2)\n",
    "        \n",
    "    if G.nodes:\n",
    "        return G\n",
    "    else:\n",
    "        raise ValueError('Assembly not possible with these sequences')\n",
    "    \n",
    "\n",
    "def _find_all_paths_(graph):\n",
    "    '''\n",
    "    find_all_paths is a function that returns a list of all the paths in a graph\n",
    "\n",
    "    Parameters\n",
    "    ----------\n",
    "    graph : _type_\n",
    "        a graph with multiple nodes and edges (it can be directed or not)\n",
    "\n",
    "    Returns\n",
    "    -------\n",
    "    all_paths : list\n",
    "        a list of all the possible paths in the graph\n",
    "    '''\n",
    "    def _find_paths_(start, end, path=[]):\n",
    "        '''\n",
    "        find_paths  is a secondary function for recursive use in all the nodes of the graph\n",
    "\n",
    "        Parameters\n",
    "        ----------\n",
    "        start : _type_\n",
    "            node of a graph to start the path\n",
    "        end : _type_\n",
    "            node of a graph that ends the path\n",
    "        path : list, optional\n",
    "            list of the current path when searching, by default []\n",
    "\n",
    "        Returns\n",
    "        -------\n",
    "        paths : list\n",
    "            list of all the nodes included in the current path\n",
    "        '''\n",
    "        path = path + [start]\n",
    "        if start == end and len(path) > 1:\n",
    "            return [path]\n",
    "        if start not in graph:\n",
    "            return []\n",
    "        paths = []\n",
    "        for node in graph[start]:\n",
    "            if node not in path or (node == end): \n",
    "                newpaths = _find_paths_(node, end, path)\n",
    "                for newpath in newpaths:\n",
    "                    paths.append(newpath)\n",
    "        return paths\n",
    "\n",
    "    all_paths = []\n",
    "    for start in graph:\n",
    "        for end in graph:\n",
    "            if start != end:\n",
    "                paths = _find_paths_(start, end)\n",
    "                all_paths.extend(paths)\n",
    "\n",
    "        # Add circular paths\n",
    "        circular_paths = _find_paths_(start, start)\n",
    "        all_paths.extend(circular_paths)\n",
    "\n",
    "    return all_paths\n",
    "\n",
    "\n",
    "\n",
    "def _find_paths_seqs_(paths, grafo):\n",
    "    '''\n",
    "    find_paths_seqs is a function that returns a dictionary, the keys are all the paths in a graph and the values are the sequences assembled (for each path) \n",
    "\n",
    "    Parameters\n",
    "    ----------\n",
    "    paths : list\n",
    "        list of lists of paths (sequences that can be assembled by that specific order)\n",
    "    grafo : _type_\n",
    "        graph that contains all the nodes and edges (sequences and possible assemblies between them)\n",
    "\n",
    "    Returns\n",
    "    -------\n",
    "    sequencias : dict\n",
    "        a dictionary, the keys are all the paths in a graph and the values are the sequences assembled (for each path) \n",
    "    '''\n",
    "    sequencias = {}\n",
    "    for path in paths:\n",
    "        soma = None\n",
    "        circular = False # bool\n",
    "        if len(set(path)) != len(path):\n",
    "            circular = True\n",
    "            path.pop()\n",
    "        for i, seq in enumerate(path): # se for circular não se pode repetir para juntar as sequencias \n",
    "            if i >= len(list(set(path))): # quando chega ao fim da lista\n",
    "                break\n",
    "            if soma is None: # quando está no inicio do path\n",
    "                soma = grafo.nodes[seq]['dseq']\n",
    "            else: # continua no path e ir somando à sequencia existente\n",
    "                soma += grafo.nodes[seq]['dseq']\n",
    "\n",
    "        if circular:\n",
    "            soma = Dseqrecord(soma, circular=True)\n",
    "\n",
    "        sequencias[(tuple(path))] = soma\n",
    "\n",
    "    # complementar com calculadora seguid para eliminar sequencias repetidas (alguns paths acabam por ser iguais, ciruclares) \n",
    "    #### AQUI: retorna 4 seqs (sequencias unicas)\n",
    "    dicio = sequencias.copy()\n",
    "\n",
    "    for comb in combinations(sequencias.items(), 2):\n",
    "        if comb[0][1].circular and comb[1][1].circular:\n",
    "            if comb[0][1].cseguid() == comb[1][1].cseguid():\n",
    "                if comb[0][0] in dicio:\n",
    "                    dicio.pop(comb[0][0])\n",
    "        elif comb[0][1].useguid() == comb[1][1].useguid(): \n",
    "            if comb[0][0] in dicio:\n",
    "                dicio.pop(comb[0][0])\n",
    "\n",
    "    return dicio\n",
    "\n",
    "\n",
    "\n",
    "\n",
    "def GoldenGateAssembler(seqs: list) -> dict:\n",
    "    '''\n",
    "    GoldenGateAssembler is a function that receives a list of sequences (fragments) and tries all the possible assembles between them, returns a dictionary of all the possible sequences ligated (with only DNA ligase).\n",
    "\n",
    "    Parameters\n",
    "    ----------\n",
    "    seqs : list\n",
    "        list of sequences (fragments of DNA)\n",
    "\n",
    "    Returns\n",
    "    -------\n",
    "    dict_seqs : dict\n",
    "        dictionary with the possible sequences ligated (keys are the order of the sequences ligated; values are the dseqrecords of the sequences assembled)\n",
    "    '''\n",
    "\n",
    "    # STEP 1: creates a graph where each node is a sequence and each edge represents the link between sequences (each possible combination in a list of sequences)\n",
    "    graph = _graph_assembly_(seqs)\n",
    "    \n",
    "    # STEP 2: find all paths (each combination of a possible assembled sequence)  \n",
    "    paths = _find_all_paths_(graph)\n",
    "\n",
    "    # STEP 3: using the paths as keys, returns all the assembled sequences for each of them (without repetitions) \n",
    "    dict_seqs = _find_paths_seqs_(paths, graph)\n",
    "    \n",
    "    return dict_seqs"
   ]
  },
  {
   "attachments": {},
   "cell_type": "markdown",
   "metadata": {},
   "source": [
    "### Example 1 (article)"
   ]
  },
  {
   "attachments": {},
   "cell_type": "markdown",
   "metadata": {},
   "source": [
    "Creating a list of sequences with Class Dseqrecord:"
   ]
  },
  {
   "cell_type": "code",
   "execution_count": 7,
   "metadata": {},
   "outputs": [
    {
     "name": "stdout",
     "output_type": "stream",
     "text": [
      "Dseqrecord(-38)\n",
      "\u001b[48;5;11m\u001b[0mccagttgctaacccttttcgatttcgaaacttacgatg\n",
      "ggtcaacgattgggaaaagctaaagctttgaatgctac\n",
      "\n",
      "5ccagttgctaaccttct...tcgttcgaaacttacgatg3\n",
      "                     |||||||||||||||||||\n",
      "                    3agcaagctttgaatgctac5\n",
      "5ccagttgctaaccttct3\n",
      " |||||||||||||||||\n",
      "3ggtcaacgattggaaga...agcaagctttgaatgctac5\n",
      "\n"
     ]
    }
   ],
   "source": [
    "seq1 = Dseqrecord(\n",
    "    \"ccagttgctaacccttttcgatttcgaaacttacgatg\")\n",
    "seq2 = primer_design(Dseqrecord(\n",
    "    \"ccagttgctaaccttcttcgttcgaaacttacgatg\"))\n",
    "\n",
    "seqs = [seq1, seq2]\n",
    "\n",
    "for seq in seqs:\n",
    "    print(seq.figure())\n",
    "    print()"
   ]
  },
  {
   "attachments": {},
   "cell_type": "markdown",
   "metadata": {},
   "source": [
    "Creating a list of enzymes:"
   ]
  },
  {
   "cell_type": "code",
   "execution_count": 8,
   "metadata": {},
   "outputs": [],
   "source": [
    "enzs = [EcoRI, BsaI, BsmBI, BamHI, BpmI]"
   ]
  },
  {
   "attachments": {},
   "cell_type": "markdown",
   "metadata": {},
   "source": [
    "With these lists, it is possible to see the **GoldenGateDesigner** function in action.\n",
    "\n",
    "This function returns a new list with the sequences with primers (containing a BsaI site that produce specific sticky ends)."
   ]
  },
  {
   "cell_type": "code",
   "execution_count": 9,
   "metadata": {},
   "outputs": [
    {
     "name": "stdout",
     "output_type": "stream",
     "text": [
      "List of the new sequences: [Dseqrecord(-60), Dseqrecord(-58)]\n",
      "Dseqrecord(-60)\n",
      "GGTCTCaAAAG\u001b[48;5;11mccagttgctaaccct\u001b[0mtttcgatttcgaaacttacgatgACTTtGAGACC\n",
      "CCAGAGtTTTCggtcaacgattgggaaaagctaaagctttgaatgctacTGAAaCTCTGG\n",
      "\n",
      "Dseqrecord(-58)\n",
      "GGTCTCaACTT\u001b[48;5;11mccagttgctaaccttct\u001b[0mtcgttcgaaacttacgatgAAAGtGAGACC\n",
      "CCAGAGtTGAAggtcaacgattggaagaagcaagctttgaatgctacTTTCaCTCTGG\n",
      "\n",
      "Compatible enzyme: BsaI\n"
     ]
    }
   ],
   "source": [
    "gg_designer = GoldenGateDesigner(seqs, enzs)\n",
    "print(f'List of the new sequences: {gg_designer[0]}')\n",
    "for seq in gg_designer[0]:\n",
    "    print(seq.figure())\n",
    "    print()\n",
    "\n",
    "print(f'Compatible enzyme: {gg_designer[1]}')"
   ]
  },
  {
   "attachments": {},
   "cell_type": "markdown",
   "metadata": {},
   "source": [
    "After designing the sequences, the user can use them for enzymatic restriction. This can be made with this code:\n"
   ]
  },
  {
   "cell_type": "code",
   "execution_count": 10,
   "metadata": {},
   "outputs": [
    {
     "name": "stdout",
     "output_type": "stream",
     "text": [
      "Dseqrecord(-46)\n",
      "AAAG\u001b[48;5;11mccagttgctaaccct\u001b[0mtttcgatttcgaaacttacgatg    \n",
      "    ggtcaacgattgggaaaagctaaagctttgaatgctacTGAA\n",
      "\n",
      "Dseqrecord(-44)\n",
      "ACTT\u001b[48;5;11mccagttgctaaccttct\u001b[0mtcgttcgaaacttacgatg    \n",
      "    ggtcaacgattggaagaagcaagctttgaatgctacTTTC\n",
      "\n"
     ]
    }
   ],
   "source": [
    "new_list = []\n",
    "\n",
    "for seq in gg_designer[0]:\n",
    "    if seq.cut(gg_designer[1]):\n",
    "        seq1, seq2, seq3 = seq.cut(gg_designer[1]) # gg_designer[1] is the selected compatible enzyme BsaI\n",
    "        new_list.append(seq2)\n",
    "        print(seq2.figure())\n",
    "    else:\n",
    "        new_list.append(seq)\n",
    "        print(seq.figure())\n",
    "    print()"
   ]
  },
  {
   "attachments": {},
   "cell_type": "markdown",
   "metadata": {},
   "source": [
    "Alternative:"
   ]
  },
  {
   "cell_type": "code",
   "execution_count": 11,
   "metadata": {},
   "outputs": [
    {
     "name": "stdout",
     "output_type": "stream",
     "text": [
      "Dseqrecord(-46)\n",
      "AAAG\u001b[48;5;11mccagttgctaaccct\u001b[0mtttcgatttcgaaacttacgatg    \n",
      "    ggtcaacgattgggaaaagctaaagctttgaatgctacTGAA\n",
      "\n",
      "Dseqrecord(-44)\n",
      "ACTT\u001b[48;5;11mccagttgctaaccttct\u001b[0mtcgttcgaaacttacgatg    \n",
      "    ggtcaacgattggaagaagcaagctttgaatgctacTTTC\n"
     ]
    }
   ],
   "source": [
    "_, seq_1, __ = gg_designer[0][0].cut(BsaI)\n",
    "_, seq_2, __ = gg_designer[0][1].cut(BsaI)\n",
    "\n",
    "print(seq_1.figure())\n",
    "print()\n",
    "print(seq_2.figure())"
   ]
  },
  {
   "attachments": {},
   "cell_type": "markdown",
   "metadata": {},
   "source": [
    "After enzymatic restriction, it is possible to see the **GoldenGateAssembler** function in action.\n",
    "\n",
    "This function returns a dictionary with all possible combinations of the resulting sequences (possible assembled sequences)."
   ]
  },
  {
   "cell_type": "code",
   "execution_count": 12,
   "metadata": {},
   "outputs": [
    {
     "name": "stdout",
     "output_type": "stream",
     "text": [
      "{(2, 1): Dseqrecord(o82)}\n"
     ]
    }
   ],
   "source": [
    "gg_assembler = GoldenGateAssembler(new_list)\n",
    "print(gg_assembler)"
   ]
  },
  {
   "attachments": {},
   "cell_type": "markdown",
   "metadata": {},
   "source": [
    "In this case (only two sequences with good compatible sticky ends), it shows only one result, that corresponds to a circular sequence of 82 nucleotides."
   ]
  },
  {
   "cell_type": "code",
   "execution_count": 13,
   "metadata": {},
   "outputs": [
    {
     "name": "stdout",
     "output_type": "stream",
     "text": [
      "Dseqrecord(o82)\n",
      "CTTT\u001b[48;5;11mccagttgctaaccttct\u001b[0mtcgttcgaaacttacgatgAATCccagttgctaacccttttcgatttcgaaacttacgatg\n",
      "GAAAggtcaacgattggaagaagcaagctttgaatgctacTTAGggtcaacgattgggaaaagctaaagctttgaatgctac\n"
     ]
    }
   ],
   "source": [
    "print(gg_assembler[(2,1)].figure())"
   ]
  },
  {
   "attachments": {},
   "cell_type": "markdown",
   "metadata": {},
   "source": []
  },
  {
   "attachments": {},
   "cell_type": "markdown",
   "metadata": {},
   "source": [
    "### Example 2"
   ]
  },
  {
   "attachments": {},
   "cell_type": "markdown",
   "metadata": {},
   "source": [
    "Creating a list of sequences (after restriction to simulate what happens with sequences already with sticky ends -- not needing primers)."
   ]
  },
  {
   "cell_type": "code",
   "execution_count": 43,
   "metadata": {},
   "outputs": [],
   "source": [
    "a = Dseqrecord(\"GGTCTCatgccctaaccccccctaacccacGAGACC\")\n",
    "b = Dseqrecord(\"GGTCTCacccagtaaccatgtagtaaaaaacccacGAGACC\")\n",
    "c = Dseqrecord(\"GGTCTCacccacgggggggggggcagtacagtaGAGACC\")\n",
    "\n",
    "list_enz = [EcoRI, BsaI, BsmBI, BamHI, BpmI]"
   ]
  },
  {
   "cell_type": "code",
   "execution_count": 44,
   "metadata": {},
   "outputs": [],
   "source": [
    "a1,a2,a3  = a.cut(BsaI)\n",
    "b1,b2,b3 = b.cut(BsaI)\n",
    "c1,c2,c3 = c.cut(BsaI)\n",
    "\n",
    "list_seqs = [a2,b2,c2]"
   ]
  },
  {
   "attachments": {},
   "cell_type": "markdown",
   "metadata": {},
   "source": [
    "**Important Note:** Seeing the figures, it is possible to see that sequence **b** have a common sticky end with sequence **a** (`gggt`) and with sequence **c** (`ccca`).\n",
    "\n",
    "It will be important to see ahead in the Assembly phase."
   ]
  },
  {
   "cell_type": "code",
   "execution_count": 45,
   "metadata": {},
   "outputs": [
    {
     "name": "stdout",
     "output_type": "stream",
     "text": [
      "Dseqrecord(-22)\n",
      "\u001b[48;5;11m\u001b[0mtgccctaaccccccctaa    \n",
      "    gattgggggggattgggt\n",
      "\n",
      "Dseqrecord(-27)\n",
      "\u001b[48;5;11m\u001b[0mcccagtaaccatgtagtaaaaaa    \n",
      "    cattggtacatcattttttgggt\n",
      "\n",
      "Dseqrecord(-25)\n",
      "\u001b[48;5;11m\u001b[0mcccacgggggggggggcagta    \n",
      "    gcccccccccccgtcatgtca\n",
      "\n"
     ]
    }
   ],
   "source": [
    "for i in list_seqs:\n",
    "    print(i.figure())\n",
    "    print()"
   ]
  },
  {
   "attachments": {},
   "cell_type": "markdown",
   "metadata": {},
   "source": [
    "GoldenGateDesigner function -- in here it is possible to see that the sequences don't need changes (not neccessary to create primers)."
   ]
  },
  {
   "cell_type": "code",
   "execution_count": 46,
   "metadata": {},
   "outputs": [
    {
     "name": "stdout",
     "output_type": "stream",
     "text": [
      "([Dseqrecord(-22), Dseqrecord(-27), Dseqrecord(-25)], BsaI)\n",
      "\n",
      "Dseqrecord(-22)\n",
      "\u001b[48;5;11m\u001b[0mtgccctaaccccccctaa    \n",
      "    gattgggggggattgggt\n",
      "\n",
      "Dseqrecord(-27)\n",
      "\u001b[48;5;11m\u001b[0mcccagtaaccatgtagtaaaaaa    \n",
      "    cattggtacatcattttttgggt\n",
      "\n",
      "Dseqrecord(-25)\n",
      "\u001b[48;5;11m\u001b[0mcccacgggggggggggcagta    \n",
      "    gcccccccccccgtcatgtca\n",
      "\n"
     ]
    }
   ],
   "source": [
    "gg_designer = GoldenGateDesigner(list_seqs, list_enz)\n",
    "print(gg_designer)\n",
    "print()\n",
    "\n",
    "for seq in gg_designer[0]:\n",
    "    print(seq.figure())\n",
    "    print()"
   ]
  },
  {
   "attachments": {},
   "cell_type": "markdown",
   "metadata": {},
   "source": [
    "GoldenGateAssembler function -- in here it is possible to see that the objective sequence is present -- (1,2,3): Dseqrecord(-66), it can also show that other sequences can be assembled instead: (1,3): Dseqrecord(-43).\n",
    "\n",
    "With this example, it is possible to conclude that this experiment has a bad design and will cause problemas when trying to clone this product."
   ]
  },
  {
   "cell_type": "code",
   "execution_count": 47,
   "metadata": {},
   "outputs": [
    {
     "name": "stdout",
     "output_type": "stream",
     "text": [
      "{(1, 2): Dseqrecord(-45), (1, 2, 3): Dseqrecord(-66), (1, 3): Dseqrecord(-43), (2, 3): Dseqrecord(-48)}\n"
     ]
    }
   ],
   "source": [
    "gg_assembler = GoldenGateAssembler(gg_designer[0])\n",
    "print(gg_assembler)"
   ]
  },
  {
   "attachments": {},
   "cell_type": "markdown",
   "metadata": {},
   "source": [
    "### Example 3"
   ]
  },
  {
   "attachments": {},
   "cell_type": "markdown",
   "metadata": {},
   "source": [
    "Creating a list of sequences and a list of enzymes not Type IIS."
   ]
  },
  {
   "cell_type": "code",
   "execution_count": 48,
   "metadata": {},
   "outputs": [],
   "source": [
    "a = Dseqrecord(\"GGTCTCatgccctaaccccccctaacccacGAGACC\")\n",
    "b = Dseqrecord(\"GGTCTCacccagtaaccatgtagtaaaaaaatgccGAGACC\")\n",
    "\n",
    "a1,a2,a3  = a.cut(BsaI)\n",
    "b1,b2,b3 = b.cut(BsaI)\n",
    "\n",
    "list_seqs = [a2,b2]\n",
    "\n",
    "list_enz = [EcoRI, BamHI] # not type IIs"
   ]
  },
  {
   "attachments": {},
   "cell_type": "markdown",
   "metadata": {},
   "source": [
    "When trying to design the sequences with this list of enzymes, it occurs an error and shows an explanation why (No type IIs restriction enzymes available on this list that do not cut within the sequences)."
   ]
  },
  {
   "cell_type": "code",
   "execution_count": 51,
   "metadata": {},
   "outputs": [
    {
     "ename": "ValueError",
     "evalue": "No type IIs restriction enzymes available on this list\n                        that do not cut within the sequences",
     "output_type": "error",
     "traceback": [
      "\u001b[0;31m---------------------------------------------------------------------------\u001b[0m",
      "\u001b[0;31mValueError\u001b[0m                                Traceback (most recent call last)",
      "Cell \u001b[0;32mIn[51], line 1\u001b[0m\n\u001b[0;32m----> 1\u001b[0m gg_designer \u001b[39m=\u001b[39m GoldenGateDesigner(list_seqs, list_enz)\n",
      "Cell \u001b[0;32mIn[6], line 154\u001b[0m, in \u001b[0;36mGoldenGateDesigner\u001b[0;34m(seqs, enzs, circular)\u001b[0m\n\u001b[1;32m    150\u001b[0m sticky_ends_dict,  sticky_ends \u001b[39m=\u001b[39m _list_sticky_ends_(seqs)\n\u001b[1;32m    153\u001b[0m \u001b[39m# STEP 2:  compatible enzymes (enzymes that do not cut within the sequences)\u001b[39;00m\n\u001b[0;32m--> 154\u001b[0m compatible_enzymes \u001b[39m=\u001b[39m _compatible_enzyme_(seqs, enzs) \n\u001b[1;32m    156\u001b[0m \u001b[39m# STEP 3: for loop over sequences\u001b[39;00m\n\u001b[1;32m    157\u001b[0m \u001b[39m# design relevant primer if needed (add enzyme and comp sticky end)\u001b[39;00m\n\u001b[1;32m    158\u001b[0m new_seqs \u001b[39m=\u001b[39m _design_seqs_(seqs, sticky_ends_dict, compatible_enzymes, circular, sticky_ends)\n",
      "Cell \u001b[0;32mIn[6], line 52\u001b[0m, in \u001b[0;36m_compatible_enzyme_\u001b[0;34m(seqs, enzs)\u001b[0m\n\u001b[1;32m     49\u001b[0m                 \u001b[39mbreak\u001b[39;00m\n\u001b[1;32m     51\u001b[0m \u001b[39mif\u001b[39;00m comp_enzymes \u001b[39m==\u001b[39m []:\n\u001b[0;32m---> 52\u001b[0m     \u001b[39mraise\u001b[39;00m \u001b[39mValueError\u001b[39;00m(\u001b[39m'''\u001b[39m\u001b[39mNo type IIs restriction enzymes available on this list\u001b[39m\n\u001b[1;32m     53\u001b[0m \u001b[39m                    that do not cut within the sequences\u001b[39m\u001b[39m'''\u001b[39m)\n\u001b[1;32m     55\u001b[0m \u001b[39mreturn\u001b[39;00m comp_enzymes\n",
      "\u001b[0;31mValueError\u001b[0m: No type IIs restriction enzymes available on this list\n                        that do not cut within the sequences"
     ]
    }
   ],
   "source": [
    "gg_designer = GoldenGateDesigner(list_seqs, list_enz)"
   ]
  },
  {
   "attachments": {},
   "cell_type": "markdown",
   "metadata": {},
   "source": [
    "### Example 4"
   ]
  },
  {
   "attachments": {},
   "cell_type": "markdown",
   "metadata": {},
   "source": [
    "Creating a list of sequences, some with sticky ends and some needing primers."
   ]
  },
  {
   "cell_type": "code",
   "execution_count": 58,
   "metadata": {},
   "outputs": [],
   "source": [
    "a = Dseqrecord(\"GGTCTCatgccctaaccccccctaacccacGAGACC\")\n",
    "b = Dseqrecord(\"GGTCTCacccagtaaccatgtagtaaaaaaatgccGAGACC\")\n",
    "c = Dseqrecord(\"GGTCTCtatgctcgggggggggggcagtacagtaGAGACC\")\n",
    "\n",
    "a1,a2,a3  = a.cut(BsaI)\n",
    "b1,b2,b3 = b.cut(BsaI)\n",
    "c1,c2,c3 = c.cut(BsaI)\n",
    "\n",
    "e = primer_design(Dseqrecord(\"ccagttgctaacccttccttggtgttgaacaagatcgacgacatttcgttcgaaacttacgatg\")) # AMPLICON\n",
    "f = primer_design(Dseqrecord(\"ccagttgctaacccttccttggtcgtttcgttcgaaacttacgatg\")) # AMPLICON\n",
    "g = primer_design(Dseqrecord(\"tatgctcgggggggaacaagatcgacgacatttcgttcgaaacttacgagggggcagtacagta\")) # AMPLICON\n",
    "\n",
    "list_seqs = [a2, b2, c2, e, f, g]\n",
    "\n",
    "list_enz = [EcoRI, BsaI, BsmBI, BamHI, BpmI]\n"
   ]
  },
  {
   "attachments": {},
   "cell_type": "markdown",
   "metadata": {},
   "source": [
    "With **GoldenGateDesigner** it is possible to see that sequences **e**, **f** and **g** need primers to be added while the first ones don't need changes."
   ]
  },
  {
   "cell_type": "code",
   "execution_count": 61,
   "metadata": {},
   "outputs": [
    {
     "name": "stdout",
     "output_type": "stream",
     "text": [
      "([Dseqrecord(-22), Dseqrecord(-27), Dseqrecord(-26), Dseqrecord(-86), Dseqrecord(-68), Dseqrecord(-86)], BsaI)\n",
      "\n",
      "Dseqrecord(-22)\n",
      "\u001b[48;5;11m\u001b[0mtgccctaaccccccctaa    \n",
      "    gattgggggggattgggt\n",
      "\n",
      "Dseqrecord(-27)\n",
      "\u001b[48;5;11m\u001b[0mcccagtaaccatgtagtaaaaaa    \n",
      "    cattggtacatcatttttttacg\n",
      "\n",
      "Dseqrecord(-26)\n",
      "\u001b[48;5;11m\u001b[0matgctcgggggggggggcagta    \n",
      "    agcccccccccccgtcatgtca\n",
      "\n",
      "Dseqrecord(-86)\n",
      "GGTCTCacagt\u001b[48;5;11mccagttgctaaccct\u001b[0mtccttggtgttgaacaagatcgacgacatttcgttcgaaacttacgatgACTTtGAGACC\n",
      "CCAGAGtgtcaggtcaacgattgggaaggaaccacaacttgttctagctgctgtaaagcaagctttgaatgctacTGAAaCTCTGG\n",
      "\n",
      "Dseqrecord(-68)\n",
      "GGTCTCaACTT\u001b[48;5;11mccagttgctaaccct\u001b[0mtccttggtcgtttcgttcgaaacttacgatgAGTTtGAGACC\n",
      "CCAGAGtTGAAggtcaacgattgggaaggaaccagcaaagcaagctttgaatgctacTCAAaCTCTGG\n",
      "\n",
      "Dseqrecord(-86)\n",
      "GGTCTCaAGTT\u001b[48;5;11mtatgctcgggggg\u001b[0mgaacaagatcgacgacatttcgttcgaaacttacgagggggcagtacagtatgcctGAGACC\n",
      "CCAGAGtTCAAatacgagcccccccttgttctagctgctgtaaagcaagctttgaatgctcccccgtcatgtcatacggaCTCTGG\n",
      "\n"
     ]
    }
   ],
   "source": [
    "gg_designer = GoldenGateDesigner(list_seqs, list_enz)\n",
    "print(gg_designer)\n",
    "print()\n",
    "\n",
    "for seq in gg_designer[0]:\n",
    "    print(seq.figure())\n",
    "    print()"
   ]
  },
  {
   "attachments": {},
   "cell_type": "markdown",
   "metadata": {},
   "source": [
    "After enzymatic restriction:"
   ]
  },
  {
   "cell_type": "code",
   "execution_count": 66,
   "metadata": {},
   "outputs": [],
   "source": [
    "new_list = []\n",
    "\n",
    "for i in gg_designer[0]:\n",
    "    if i.cut(gg_designer[1]):\n",
    "        i1, i2, i3 = i.cut(gg_designer[1])\n",
    "        new_list.append(i2)\n",
    "    else:\n",
    "        new_list.append(i)\n"
   ]
  },
  {
   "attachments": {},
   "cell_type": "markdown",
   "metadata": {},
   "source": [
    "GoldenGateAssembler:"
   ]
  },
  {
   "cell_type": "code",
   "execution_count": 70,
   "metadata": {},
   "outputs": [
    {
     "name": "stdout",
     "output_type": "stream",
     "text": [
      "GoldenGateAssembler:\n",
      "{(1, 2): Dseqrecord(-45), (1, 2, 3): Dseqrecord(-67), (1, 2, 3, 4): Dseqrecord(-135), (1, 2, 3, 4, 5): Dseqrecord(-185), (2, 3): Dseqrecord(-49), (2, 3, 4): Dseqrecord(-117), (2, 3, 4, 5): Dseqrecord(-167), (2, 3, 4, 5, 6): Dseqrecord(-235), (3, 4, 5, 6, 1): Dseqrecord(-230), (3, 4): Dseqrecord(-94), (3, 4, 5): Dseqrecord(-144), (3, 4, 5, 6): Dseqrecord(-212), (4, 5, 6, 1): Dseqrecord(-208), (4, 5, 6, 1, 2): Dseqrecord(-231), (4, 5): Dseqrecord(-122), (4, 5, 6): Dseqrecord(-190), (5, 6, 1): Dseqrecord(-140), (5, 6, 1, 2): Dseqrecord(-163), (5, 6, 1, 2, 3): Dseqrecord(-185), (5, 6): Dseqrecord(-122), (6, 1): Dseqrecord(-90), (6, 1, 2): Dseqrecord(-113), (6, 1, 2, 3): Dseqrecord(-135), (6, 1, 2, 3, 4): Dseqrecord(-203), (6, 1, 2, 3, 4, 5): Dseqrecord(o249)}\n",
      "\n",
      "Dseqrecord\n",
      "circular: True\n",
      "size: 249\n",
      "ID: id\n",
      "Name: name\n",
      "Description: description\n",
      "Number of features: 18\n",
      "/molecule_type=DNA\n",
      "Dseq(o249)\n",
      "AGTT..gatg\n",
      "TCAA..ctac\n"
     ]
    }
   ],
   "source": [
    "print('GoldenGateAssembler:')\n",
    "gg_assembler = GoldenGateAssembler(new_list)\n",
    "print(gg_assembler)\n",
    "\n",
    "print()\n",
    "\n",
    "print(gg_assembler[(6, 1, 2, 3, 4, 5)])\n"
   ]
  }
 ],
 "metadata": {
  "kernelspec": {
   "display_name": "pythonProject",
   "language": "python",
   "name": "python3"
  },
  "language_info": {
   "codemirror_mode": {
    "name": "ipython",
    "version": 3
   },
   "file_extension": ".py",
   "mimetype": "text/x-python",
   "name": "python",
   "nbconvert_exporter": "python",
   "pygments_lexer": "ipython3",
   "version": "3.10.4"
  },
  "orig_nbformat": 4
 },
 "nbformat": 4,
 "nbformat_minor": 2
}
